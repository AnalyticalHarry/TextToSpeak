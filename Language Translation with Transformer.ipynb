{
 "cells": [
  {
   "cell_type": "markdown",
   "id": "ae899dcb-ea64-4ffd-b11a-ced5f80c8c8f",
   "metadata": {},
   "source": [
    "# Language Translation with Transformer"
   ]
  },
  {
   "cell_type": "markdown",
   "id": "e8639112-6443-4f4d-9ef2-744ede86b78c",
   "metadata": {},
   "source": [
    "#### Hemant Thapa"
   ]
  },
  {
   "cell_type": "markdown",
   "id": "575d3dcc-0f7b-49d6-a87f-7eb5b323a844",
   "metadata": {},
   "source": [
    "` !pip install transformers gtts SpeechRecognition googletrans==4.0.0-rc1`"
   ]
  },
  {
   "cell_type": "code",
   "execution_count": 1,
   "id": "e1911fdc-86c5-4c44-bf96-d2b23088ddc5",
   "metadata": {},
   "outputs": [],
   "source": [
    "#importing libraries\n",
    "import os\n",
    "import speech_recognition as sr"
   ]
  },
  {
   "cell_type": "code",
   "execution_count": 2,
   "id": "092c3043-5549-489f-b101-6cf47ec42893",
   "metadata": {},
   "outputs": [],
   "source": [
    "from transformers import MarianMTModel, MarianTokenizer\n",
    "from gtts import gTTS\n",
    "from googletrans import Translator, LANGUAGES"
   ]
  },
  {
   "cell_type": "markdown",
   "id": "c06a89be-ca47-4563-af8b-408067a7b865",
   "metadata": {},
   "source": [
    "#### Google Translater "
   ]
  },
  {
   "cell_type": "markdown",
   "id": "29ee7c98-5bcc-4d25-b967-23d67d2afb3a",
   "metadata": {},
   "source": [
    "#### Types of Languages in google translater module "
   ]
  },
  {
   "cell_type": "code",
   "execution_count": 3,
   "id": "97edf6f4-5dd3-4c6a-b930-8c683f7424ec",
   "metadata": {},
   "outputs": [
    {
     "name": "stdout",
     "output_type": "stream",
     "text": [
      "Available languages:\n",
      "af: afrikaans\n",
      "sq: albanian\n",
      "am: amharic\n",
      "ar: arabic\n",
      "hy: armenian\n",
      "az: azerbaijani\n",
      "eu: basque\n",
      "be: belarusian\n",
      "bn: bengali\n",
      "bs: bosnian\n",
      "bg: bulgarian\n",
      "ca: catalan\n",
      "ceb: cebuano\n",
      "ny: chichewa\n",
      "zh-cn: chinese (simplified)\n",
      "zh-tw: chinese (traditional)\n",
      "co: corsican\n",
      "hr: croatian\n",
      "cs: czech\n",
      "da: danish\n",
      "nl: dutch\n",
      "en: english\n",
      "eo: esperanto\n",
      "et: estonian\n",
      "tl: filipino\n",
      "fi: finnish\n",
      "fr: french\n",
      "fy: frisian\n",
      "gl: galician\n",
      "ka: georgian\n",
      "de: german\n",
      "el: greek\n",
      "gu: gujarati\n",
      "ht: haitian creole\n",
      "ha: hausa\n",
      "haw: hawaiian\n",
      "iw: hebrew\n",
      "he: hebrew\n",
      "hi: hindi\n",
      "hmn: hmong\n",
      "hu: hungarian\n",
      "is: icelandic\n",
      "ig: igbo\n",
      "id: indonesian\n",
      "ga: irish\n",
      "it: italian\n",
      "ja: japanese\n",
      "jw: javanese\n",
      "kn: kannada\n",
      "kk: kazakh\n",
      "km: khmer\n",
      "ko: korean\n",
      "ku: kurdish (kurmanji)\n",
      "ky: kyrgyz\n",
      "lo: lao\n",
      "la: latin\n",
      "lv: latvian\n",
      "lt: lithuanian\n",
      "lb: luxembourgish\n",
      "mk: macedonian\n",
      "mg: malagasy\n",
      "ms: malay\n",
      "ml: malayalam\n",
      "mt: maltese\n",
      "mi: maori\n",
      "mr: marathi\n",
      "mn: mongolian\n",
      "my: myanmar (burmese)\n",
      "ne: nepali\n",
      "no: norwegian\n",
      "or: odia\n",
      "ps: pashto\n",
      "fa: persian\n",
      "pl: polish\n",
      "pt: portuguese\n",
      "pa: punjabi\n",
      "ro: romanian\n",
      "ru: russian\n",
      "sm: samoan\n",
      "gd: scots gaelic\n",
      "sr: serbian\n",
      "st: sesotho\n",
      "sn: shona\n",
      "sd: sindhi\n",
      "si: sinhala\n",
      "sk: slovak\n",
      "sl: slovenian\n",
      "so: somali\n",
      "es: spanish\n",
      "su: sundanese\n",
      "sw: swahili\n",
      "sv: swedish\n",
      "tg: tajik\n",
      "ta: tamil\n",
      "te: telugu\n",
      "th: thai\n",
      "tr: turkish\n",
      "uk: ukrainian\n",
      "ur: urdu\n",
      "ug: uyghur\n",
      "uz: uzbek\n",
      "vi: vietnamese\n",
      "cy: welsh\n",
      "xh: xhosa\n",
      "yi: yiddish\n",
      "yo: yoruba\n",
      "zu: zulu\n"
     ]
    }
   ],
   "source": [
    "print(\"Available languages:\")\n",
    "for code, language in LANGUAGES.items():\n",
    "    print(f\"{code}: {language}\")"
   ]
  },
  {
   "cell_type": "markdown",
   "id": "a5eeb661-2c98-4f00-b4cd-3fcf7176c59d",
   "metadata": {},
   "source": [
    "#### Language code search according to Langauge"
   ]
  },
  {
   "cell_type": "code",
   "execution_count": 4,
   "id": "a3f3c93b-5a1a-47a6-8a77-1cf4fda0fc50",
   "metadata": {},
   "outputs": [
    {
     "name": "stdin",
     "output_type": "stream",
     "text": [
      "Enter the language name:  Hindi\n"
     ]
    },
    {
     "name": "stdout",
     "output_type": "stream",
     "text": [
      "The language code corresponding to 'Hindi' is: hi\n"
     ]
    }
   ],
   "source": [
    "# function to get code for desire language\n",
    "def get_code_from_language(language_name):\n",
    "    language_name = language_name.lower()\n",
    "    for code, name in LANGUAGES.items():\n",
    "        if name.lower() == language_name:\n",
    "            return code\n",
    "    return 'Unknown'\n",
    "\n",
    "language_name = input(\"Enter the language name: \")\n",
    "language_code = get_code_from_language(language_name)\n",
    "print(f\"The language code corresponding to '{language_name}' is: {language_code}\")\n"
   ]
  },
  {
   "cell_type": "code",
   "execution_count": 5,
   "id": "6f968b90-4c1e-432c-bf0d-561efb5c0ee6",
   "metadata": {},
   "outputs": [],
   "source": [
    "def translate_text(input_text, source_lang, target_lang):\n",
    "    try:\n",
    "        translator = Translator()\n",
    "        translated_text = translator.translate(input_text, src=source_lang, dest=target_lang)\n",
    "        return translated_text.text\n",
    "    except Exception as e:\n",
    "        print(\"Translation error:\", e)\n",
    "        return None\n",
    "\n",
    "def translate(input_text, source_lang, target_lang):\n",
    "    translated_text = translate_text(input_text, source_lang, target_lang)\n",
    "    print(translated_text)"
   ]
  },
  {
   "cell_type": "code",
   "execution_count": 6,
   "id": "4bb19ce2-dc3b-4c51-9fff-6eb9cb3e0270",
   "metadata": {},
   "outputs": [
    {
     "name": "stdout",
     "output_type": "stream",
     "text": [
      "שלום, מה שלומך?, שמי הארי\n"
     ]
    }
   ],
   "source": [
    "input_text = \"Hello, how are you?, My name is Harry\"\n",
    "source_lang = 'en'\n",
    "target_lang = 'iw'\n",
    "\n",
    "translate(input_text, source_lang, target_lang)"
   ]
  },
  {
   "cell_type": "code",
   "execution_count": 7,
   "id": "b26d8cee-ea9b-4b40-a044-ccc1a3fcc9b4",
   "metadata": {},
   "outputs": [
    {
     "name": "stdout",
     "output_type": "stream",
     "text": [
      "مرحبا، كيف حالك؟\n"
     ]
    }
   ],
   "source": [
    "input_text = \"Hello, how are you?\"\n",
    "source_lang = 'en'\n",
    "target_lang = 'ar'\n",
    "\n",
    "translate(input_text, source_lang, target_lang)"
   ]
  },
  {
   "cell_type": "code",
   "execution_count": 8,
   "id": "e4925e7e-9d8c-441c-81e8-ddca0e2bb944",
   "metadata": {},
   "outputs": [
    {
     "name": "stdout",
     "output_type": "stream",
     "text": [
      "नमस्ते, आप कैसे हैं?\n"
     ]
    }
   ],
   "source": [
    "input_text = \"Hello, how are you?\"\n",
    "source_lang = 'en'\n",
    "target_lang = 'hi'\n",
    "\n",
    "translate(input_text, source_lang, target_lang)"
   ]
  },
  {
   "cell_type": "markdown",
   "id": "bc9b060d-6797-4edb-9eb7-9643cf31a0c7",
   "metadata": {},
   "source": [
    "#### Text into Speech with specific Language "
   ]
  },
  {
   "cell_type": "code",
   "execution_count": 9,
   "id": "0a25fc61-d893-4619-9f32-ae9f20121749",
   "metadata": {},
   "outputs": [
    {
     "name": "stdout",
     "output_type": "stream",
     "text": [
      "مرحبا، كيف حالك؟\n"
     ]
    }
   ],
   "source": [
    "def text_to_audio(input_text, source_lang, target_lang):\n",
    "    try:\n",
    "        translator = Translator()\n",
    "        translated_text = translator.translate(input_text, src=source_lang, dest=target_lang)\n",
    "        return translated_text.text\n",
    "    except Exception as e:\n",
    "        print(\"Translation error:\", e)\n",
    "        return None\n",
    "\n",
    "def translate(input_text, source_lang, target_lang):\n",
    "    translated_text = translate_text(input_text, source_lang, target_lang)\n",
    "    print(translated_text)\n",
    "    tts = gTTS(translated_text, lang=target_lang)\n",
    "    tts.save(\"translated_audio.mp3\")\n",
    "    os.system(\"start translated_audio.mp3\")\n",
    "\n",
    "input_text = \"Hello, how are you?\"\n",
    "source_lang = \"en\"  \n",
    "target_lang = \"ar\"  \n",
    "translate(input_text, source_lang, target_lang)"
   ]
  },
  {
   "cell_type": "markdown",
   "id": "39612764-4e05-441b-8724-0ffa75b80339",
   "metadata": {},
   "source": [
    "#### English Audio as input and Hindi Audi as output "
   ]
  },
  {
   "cell_type": "code",
   "execution_count": 10,
   "id": "7eda2824-5e91-4bad-84a9-658dfa4e55e3",
   "metadata": {},
   "outputs": [
    {
     "name": "stdout",
     "output_type": "stream",
     "text": [
      "Speak the text you want to translate...\n",
      "Recognizing...\n",
      "You said: you might have a wonderful book of poetry but if no one knows about it it's simply not going to sell well\n",
      "Translated text: आपके पास कविता की एक अद्भुत पुस्तक हो सकती है, लेकिन अगर कोई भी इसके बारे में नहीं जानता है तो यह बस अच्छी तरह से बेचने वाला नहीं है\n"
     ]
    }
   ],
   "source": [
    "def speech_to_audio_conversion(input_text, source_lang, target_lang):\n",
    "    try:\n",
    "        translator = Translator()\n",
    "        translated_text = translator.translate(input_text, src=source_lang, dest=target_lang)\n",
    "        return translated_text.text\n",
    "    except Exception as e:\n",
    "        print(\"Translation error:\", e)\n",
    "        return None\n",
    "\n",
    "def translate(input_text, source_lang, target_lang):\n",
    "    translated_text = speech_to_audio_conversion(input_text, source_lang, target_lang)\n",
    "    print(\"Translated text:\", translated_text)\n",
    "    tts = gTTS(translated_text, lang=target_lang)\n",
    "    tts.save(\"translated_audio.mp3\")\n",
    "    os.system(\"start translated_audio.mp3\")\n",
    "\n",
    "def take_voice_input():\n",
    "    recognizer = sr.Recognizer()\n",
    "    with sr.Microphone() as source:\n",
    "        print(\"Speak the text you want to translate...\")\n",
    "        recognizer.adjust_for_ambient_noise(source)\n",
    "        audio = recognizer.listen(source)\n",
    "    try:\n",
    "        print(\"Recognizing...\")\n",
    "        input_text = recognizer.recognize_google(audio)\n",
    "        print(\"You said:\", input_text)\n",
    "        return input_text\n",
    "    except sr.UnknownValueError:\n",
    "        print(\"Sorry, could not understand audio.\")\n",
    "        return \"\"\n",
    "    except sr.RequestError as e:\n",
    "        print(\"Error fetching results; {0}\".format(e))\n",
    "        return \"\"\n",
    "\n",
    "input_text = take_voice_input()\n",
    "source_lang = \"en\"\n",
    "target_lang = \"hi\"\n",
    "translate(input_text, source_lang, target_lang)"
   ]
  },
  {
   "cell_type": "markdown",
   "id": "f5e4fd74-ea02-472c-abd7-05e988ea3928",
   "metadata": {},
   "source": [
    "#### Transformer "
   ]
  },
  {
   "cell_type": "code",
   "execution_count": 12,
   "id": "1f80f05d-63f3-4f85-9f10-cc48b2ba396e",
   "metadata": {},
   "outputs": [],
   "source": [
    "import warnings\n",
    "warnings.filterwarnings(\"ignore\")"
   ]
  },
  {
   "cell_type": "code",
   "execution_count": 13,
   "id": "3e9105b8-2cad-4d04-80f6-dc149955ac75",
   "metadata": {},
   "outputs": [
    {
     "name": "stdout",
     "output_type": "stream",
     "text": [
      "Translated text: हैलो, तुम कैसे हो?\n"
     ]
    }
   ],
   "source": [
    "model_name = \"Helsinki-NLP/opus-mt-en-hi\"\n",
    "model = MarianMTModel.from_pretrained(model_name)\n",
    "tokenizer = MarianTokenizer.from_pretrained(model_name)\n",
    "\n",
    "input_text = \"Hello, how are you?\"\n",
    "input_ids = tokenizer.encode(input_text, return_tensors=\"pt\")\n",
    "translated_ids = model.generate(input_ids)\n",
    "translated_text = tokenizer.decode(translated_ids[0], skip_special_tokens=True)\n",
    "print(\"Translated text:\", translated_text)"
   ]
  },
  {
   "cell_type": "markdown",
   "id": "ef47c1f8-9a27-48f8-95e5-ba05eb599326",
   "metadata": {},
   "source": [
    "#### Converting Speech to speech translation "
   ]
  },
  {
   "cell_type": "markdown",
   "id": "6bac0f63-bd31-42a5-a62c-c00fa331dace",
   "metadata": {},
   "source": [
    "##### English to Hindi "
   ]
  },
  {
   "cell_type": "code",
   "execution_count": 16,
   "id": "107b8ab4-64d5-4d81-b6a1-438f27d54db4",
   "metadata": {},
   "outputs": [
    {
     "name": "stdout",
     "output_type": "stream",
     "text": [
      "Speak the text you want to translate...\n",
      "Recognizing...\n",
      "You said: can you read a book and it make my whole body so cold on fire can ever want me I know that is poetry\n",
      "Translated text in Hindi: आप एक पुस्तक पढ़ सकते हैं और यह मेरे पूरे शरीर को आग पर इतना ठंडा बना सकते हैं...... मैं जानता हूँ कि कविता है कि कभी नहीं चाहता.\n",
      "Playing translated audio...\n"
     ]
    }
   ],
   "source": [
    "def english_to_hindi(model_name=\"Helsinki-NLP/opus-mt-en-hi\"):\n",
    "    model = MarianMTModel.from_pretrained(model_name)\n",
    "    tokenizer = MarianTokenizer.from_pretrained(model_name)\n",
    "\n",
    "    recognizer = sr.Recognizer()\n",
    "    def play_audio(audio_file):\n",
    "        os.system(\"start \" + audio_file)\n",
    "\n",
    "    with sr.Microphone() as source:\n",
    "        print(\"Speak the text you want to translate...\")\n",
    "        recognizer.adjust_for_ambient_noise(source)\n",
    "        audio = recognizer.listen(source)\n",
    "    try:\n",
    "        print(\"Recognizing...\")\n",
    "        input_text = recognizer.recognize_google(audio)\n",
    "        print(\"You said:\", input_text)\n",
    "    except sr.UnknownValueError:\n",
    "        print(\"Sorry, could not understand audio.\")\n",
    "        input_text = \"\"\n",
    "    except sr.RequestError as e:\n",
    "        print(\"Error fetching results; {0}\".format(e))\n",
    "        input_text = \"\"\n",
    "\n",
    "    input_ids = tokenizer.encode(input_text, return_tensors=\"pt\")\n",
    "    translated_ids = model.generate(input_ids)\n",
    "    translated_text = tokenizer.decode(translated_ids[0], skip_special_tokens=True)\n",
    "    print(\"Translated text in Hindi:\", translated_text)\n",
    "    tts = gTTS(translated_text, lang='hi')\n",
    "    tts.save(\"translated_audio.mp3\")\n",
    "    print(\"Playing translated audio...\")\n",
    "    play_audio(\"translated_audio.mp3\")\n",
    "\n",
    "english_to_hindi()"
   ]
  },
  {
   "cell_type": "markdown",
   "id": "e2c17713-26ad-4f65-b18b-2991b66ed8d1",
   "metadata": {},
   "source": [
    "##### English to French "
   ]
  },
  {
   "cell_type": "code",
   "execution_count": 17,
   "id": "5bfa0987-a258-48f9-8d35-4991567093ca",
   "metadata": {},
   "outputs": [
    {
     "name": "stdout",
     "output_type": "stream",
     "text": [
      "Speak the text you want to translate...\n",
      "Recognizing...\n",
      "You said: how to publish a poetry online\n",
      "Translated text in French: comment publier une poésie en ligne\n",
      "Playing translated audio...\n"
     ]
    }
   ],
   "source": [
    "def english_to_french(model_name=\"Helsinki-NLP/opus-mt-en-fr\"):\n",
    "    model = MarianMTModel.from_pretrained(model_name)\n",
    "    tokenizer = MarianTokenizer.from_pretrained(model_name)\n",
    "    recognizer = sr.Recognizer()\n",
    "    \n",
    "    def play_audio(audio_file):\n",
    "        os.system(\"start \" + audio_file)\n",
    "    with sr.Microphone() as source:\n",
    "        print(\"Speak the text you want to translate...\")\n",
    "        recognizer.adjust_for_ambient_noise(source)\n",
    "        audio = recognizer.listen(source)\n",
    "    try:\n",
    "        print(\"Recognizing...\")\n",
    "        # Recognize the speech and convert it to text\n",
    "        input_text = recognizer.recognize_google(audio)\n",
    "        print(\"You said:\", input_text)\n",
    "    except sr.UnknownValueError:\n",
    "        print(\"Sorry, could not understand audio.\")\n",
    "        input_text = \"\"\n",
    "    except sr.RequestError as e:\n",
    "        print(\"Error fetching results; {0}\".format(e))\n",
    "        input_text = \"\"\n",
    "    input_ids = tokenizer.encode(input_text, return_tensors=\"pt\")\n",
    "    translated_ids = model.generate(input_ids)\n",
    "    translated_text = tokenizer.decode(translated_ids[0], skip_special_tokens=True)\n",
    "    print(\"Translated text in French:\", translated_text)\n",
    "    tts = gTTS(translated_text, lang='fr')  \n",
    "    tts.save(\"translated_audio.mp3\")\n",
    "    print(\"Playing translated audio...\")\n",
    "    play_audio(\"translated_audio.mp3\")\n",
    "english_to_french()"
   ]
  },
  {
   "cell_type": "markdown",
   "id": "dd860828-f7f0-401c-ad93-f112e0b7bb7d",
   "metadata": {},
   "source": [
    "##### Hindi to English "
   ]
  },
  {
   "cell_type": "code",
   "execution_count": 19,
   "id": "0523c1d8-9d7d-4e88-a51a-aea61133c11c",
   "metadata": {},
   "outputs": [
    {
     "name": "stdout",
     "output_type": "stream",
     "text": [
      "Speak the text you want to translate...\n",
      "Recognizing...\n",
      "Translated text in English: You said the weather would be good today and watch even the sun\n",
      "Playing translated audio...\n"
     ]
    }
   ],
   "source": [
    "def hindi_to_english(model_name=\"Helsinki-NLP/opus-mt-hi-en\"):\n",
    "    model = MarianMTModel.from_pretrained(model_name)\n",
    "    tokenizer = MarianTokenizer.from_pretrained(model_name)\n",
    "\n",
    "    recognizer = sr.Recognizer()\n",
    "\n",
    "    def play_audio(audio_file):\n",
    "        os.system(\"start \" + audio_file)\n",
    "        \n",
    "    with sr.Microphone() as source:\n",
    "        print(\"Speak the text you want to translate...\")\n",
    "        recognizer.adjust_for_ambient_noise(source)\n",
    "        audio = recognizer.listen(source)\n",
    "\n",
    "    try:\n",
    "        print(\"Recognizing...\")\n",
    "        input_text = recognizer.recognize_google(audio, language='hi-IN')  \n",
    "    except sr.UnknownValueError:\n",
    "        print(\"Sorry, could not understand audio.\")\n",
    "        input_text = \"\"\n",
    "    except sr.RequestError as e:\n",
    "        print(\"Error fetching results; {0}\".format(e))\n",
    "        input_text = \"\"\n",
    "\n",
    "\n",
    "    input_ids = tokenizer.encode(input_text, return_tensors=\"pt\")\n",
    "    translated_ids = model.generate(input_ids)\n",
    "    translated_text = tokenizer.decode(translated_ids[0], skip_special_tokens=True)\n",
    "    print(\"Translated text in English:\", translated_text)\n",
    "    tts = gTTS(translated_text, lang='en')  \n",
    "    tts.save(\"translated_audio.mp3\")\n",
    "    print(\"Playing translated audio...\")\n",
    "    play_audio(\"translated_audio.mp3\")\n",
    "\n",
    "hindi_to_english()"
   ]
  },
  {
   "cell_type": "markdown",
   "id": "c7ffea2a-d764-40a7-865b-8070191b65fb",
   "metadata": {},
   "source": [
    "##### English to Arabic "
   ]
  },
  {
   "cell_type": "code",
   "execution_count": 23,
   "id": "a5f2f74b-a0da-4b6e-b13d-f206c35f5cc3",
   "metadata": {},
   "outputs": [
    {
     "name": "stdout",
     "output_type": "stream",
     "text": [
      "Translated text: ألف - الوظائف الممولة من الميزانية العادية\n"
     ]
    }
   ],
   "source": [
    "def english_to_arabic(model_name=\"Helsinki-NLP/opus-mt-en-ar\"):\n",
    "    model = MarianMTModel.from_pretrained(model_name)\n",
    "    tokenizer = MarianTokenizer.from_pretrained(model_name)\n",
    "    recognizer = sr.Recognizer()\n",
    "\n",
    "    def play_audio(audio_file):\n",
    "        os.system(\"start \" + audio_file)\n",
    "\n",
    "    with sr.Microphone() as source:\n",
    "        recognizer.adjust_for_ambient_noise(source)\n",
    "        audio = recognizer.listen(source)\n",
    "\n",
    "    try:\n",
    "        input_text = recognizer.recognize_google(audio)\n",
    "        print(\"Input text:\", input_text)  \n",
    "    except sr.UnknownValueError:\n",
    "        input_text = \"\"\n",
    "    except sr.RequestError as e:\n",
    "        input_text = \"\"\n",
    "\n",
    "    input_ids = tokenizer.encode(input_text, return_tensors=\"pt\")\n",
    "    translated_ids = model.generate(input_ids)\n",
    "    translated_text = tokenizer.decode(translated_ids[0], skip_special_tokens=True)\n",
    "\n",
    "    print(\"Translated text:\", translated_text)  \n",
    "    tts = gTTS(translated_text, lang='ar')\n",
    "    tts.save(\"translated_audio.mp3\")\n",
    "\n",
    "    play_audio(\"translated_audio.mp3\")\n",
    "\n",
    "english_to_arabic()"
   ]
  }
 ],
 "metadata": {
  "kernelspec": {
   "display_name": "Python 3 (ipykernel)",
   "language": "python",
   "name": "python3"
  },
  "language_info": {
   "codemirror_mode": {
    "name": "ipython",
    "version": 3
   },
   "file_extension": ".py",
   "mimetype": "text/x-python",
   "name": "python",
   "nbconvert_exporter": "python",
   "pygments_lexer": "ipython3",
   "version": "3.11.7"
  }
 },
 "nbformat": 4,
 "nbformat_minor": 5
}
